{
 "cells": [
  {
   "cell_type": "markdown",
   "metadata": {},
   "source": [
    "# Tessellate RL\n",
    "\n",
    "Train an RL agent on a 2-player board game with multiplicative scoring."
   ]
  },
  {
   "cell_type": "code",
   "execution_count": null,
   "metadata": {},
   "outputs": [],
   "source": [
    "# Install dependencies\n",
    "!pip install torch numpy -q"
   ]
  },
  {
   "cell_type": "code",
   "execution_count": null,
   "metadata": {},
   "outputs": [],
   "source": [
    "import numpy as np\n",
    "import torch\n",
    "import torch.nn as nn\n",
    "import torch.optim as optim\n",
    "from collections import deque\n",
    "import random\n",
    "\n",
    "# Import game environment\n",
    "from tessellate_env import TessellateEnv"
   ]
  },
  {
   "cell_type": "markdown",
   "metadata": {},
   "source": [
    "## Quick Demo"
   ]
  },
  {
   "cell_type": "code",
   "execution_count": null,
   "metadata": {},
   "outputs": [],
   "source": [
    "# Create environment and play 5 random moves\n",
    "env = TessellateEnv(reward_mode='mixed')\n",
    "obs = env.reset()\n",
    "\n",
    "print(f\"Observation shape: {obs.shape}\")\n",
    "print(f\"Action space: 0-99 (board positions)\\n\")\n",
    "\n",
    "for i in range(5):\n",
    "    valid = env.get_valid_actions()\n",
    "    action = np.random.choice(valid)\n",
    "    obs, reward, done, info = env.step(action)\n",
    "    \n",
    "    print(f\"Move {i+1}: Action={action}, Reward={reward:.3f}\")\n",
    "    print(f\"  Scores: Red={info['current_scores'][1]}, Blue={info['current_scores'][2]}\")"
   ]
  },
  {
   "cell_type": "markdown",
   "metadata": {},
   "source": [
    "## DQN Agent"
   ]
  },
  {
   "cell_type": "code",
   "execution_count": null,
   "metadata": {},
   "outputs": [],
   "source": [
    "class DQN(nn.Module):\n",
    "    def __init__(self, input_size=101, hidden_size=128, output_size=100):\n",
    "        super().__init__()\n",
    "        self.fc1 = nn.Linear(input_size, hidden_size)\n",
    "        self.fc2 = nn.Linear(hidden_size, hidden_size)\n",
    "        self.fc3 = nn.Linear(hidden_size, output_size)\n",
    "        \n",
    "    def forward(self, x):\n",
    "        x = torch.relu(self.fc1(x))\n",
    "        x = torch.relu(self.fc2(x))\n",
    "        return self.fc3(x)\n",
    "\n",
    "class DQNAgent:\n",
    "    def __init__(self, lr=0.001, gamma=0.95, epsilon=0.1):\n",
    "        self.q_net = DQN()\n",
    "        self.target_net = DQN()\n",
    "        self.optimizer = optim.Adam(self.q_net.parameters(), lr=lr)\n",
    "        self.memory = deque(maxlen=10000)\n",
    "        self.gamma = gamma\n",
    "        self.epsilon = epsilon\n",
    "        \n",
    "    def act(self, state, valid_actions):\n",
    "        if random.random() < self.epsilon:\n",
    "            return random.choice(valid_actions)\n",
    "        \n",
    "        with torch.no_grad():\n",
    "            q_values = self.q_net(torch.FloatTensor(state))\n",
    "            q_values_valid = q_values[valid_actions]\n",
    "            return valid_actions[q_values_valid.argmax().item()]\n",
    "    \n",
    "    def remember(self, state, action, reward, next_state, done):\n",
    "        self.memory.append((state, action, reward, next_state, done))\n",
    "    \n",
    "    def replay(self, batch_size=32):\n",
    "        if len(self.memory) < batch_size:\n",
    "            return\n",
    "        \n",
    "        batch = random.sample(self.memory, batch_size)\n",
    "        states = torch.FloatTensor(np.array([e[0] for e in batch]))\n",
    "        actions = torch.LongTensor([e[1] for e in batch])\n",
    "        rewards = torch.FloatTensor([e[2] for e in batch])\n",
    "        next_states = torch.FloatTensor(np.array([e[3] for e in batch]))\n",
    "        dones = torch.FloatTensor([e[4] for e in batch])\n",
    "        \n",
    "        current_q = self.q_net(states).gather(1, actions.unsqueeze(1))\n",
    "        next_q = self.target_net(next_states).max(1)[0].detach()\n",
    "        target_q = rewards + (1 - dones) * self.gamma * next_q\n",
    "        \n",
    "        loss = nn.MSELoss()(current_q.squeeze(), target_q)\n",
    "        self.optimizer.zero_grad()\n",
    "        loss.backward()\n",
    "        self.optimizer.step()\n",
    "    \n",
    "    def update_target(self):\n",
    "        self.target_net.load_state_dict(self.q_net.state_dict())"
   ]
  },
  {
   "cell_type": "markdown",
   "metadata": {},
   "source": [
    "## Training"
   ]
  },
  {
   "cell_type": "code",
   "execution_count": null,
   "metadata": {},
   "outputs": [],
   "source": [
    "# Train agent\n",
    "env = TessellateEnv(reward_mode='mixed')\n",
    "agent = DQNAgent(epsilon=0.3)\n",
    "episodes = 100\n",
    "rewards = []\n",
    "\n",
    "for ep in range(episodes):\n",
    "    state = env.reset()\n",
    "    total_reward = 0\n",
    "    \n",
    "    while True:\n",
    "        valid = env.get_valid_actions()\n",
    "        if not valid:\n",
    "            break\n",
    "            \n",
    "        action = agent.act(state, valid)\n",
    "        next_state, reward, done, _ = env.step(action)\n",
    "        \n",
    "        agent.remember(state, action, reward, next_state, done)\n",
    "        agent.replay()\n",
    "        \n",
    "        state = next_state\n",
    "        total_reward += reward\n",
    "        \n",
    "        if done:\n",
    "            break\n",
    "    \n",
    "    rewards.append(total_reward)\n",
    "    \n",
    "    # Update target network\n",
    "    if ep % 10 == 0:\n",
    "        agent.update_target()\n",
    "        agent.epsilon *= 0.9  # Decay exploration\n",
    "    \n",
    "    if ep % 20 == 0:\n",
    "        print(f\"Episode {ep}: Avg Reward = {np.mean(rewards[-20:]):.3f}\")\n",
    "\n",
    "print(f\"\\nFinal avg reward: {np.mean(rewards[-20:]):.3f}\")"
   ]
  },
  {
   "cell_type": "markdown",
   "metadata": {},
   "source": [
    "## Evaluation"
   ]
  },
  {
   "cell_type": "code",
   "execution_count": null,
   "metadata": {},
   "outputs": [],
   "source": [
    "# Test trained agent vs random\n",
    "def evaluate(agent, n_games=20):\n",
    "    wins = 0\n",
    "    \n",
    "    for _ in range(n_games):\n",
    "        env = TessellateEnv()\n",
    "        state = env.reset()\n",
    "        \n",
    "        # Track scores for both players\n",
    "        while not env.is_terminal():\n",
    "            valid = env.get_valid_actions()\n",
    "            if not valid:\n",
    "                break\n",
    "            \n",
    "            # Agent plays RED (player 1)\n",
    "            if env.game.current_turn == 1:\n",
    "                action = agent.act(state, valid)\n",
    "            else:\n",
    "                # Random plays BLUE\n",
    "                action = random.choice(valid)\n",
    "            \n",
    "            state, _, done, info = env.step(action)\n",
    "            \n",
    "            if done:\n",
    "                if info['winner'] == 1:\n",
    "                    wins += 1\n",
    "                break\n",
    "    \n",
    "    return wins / n_games * 100\n",
    "\n",
    "agent.epsilon = 0  # No exploration during evaluation\n",
    "win_rate = evaluate(agent)\n",
    "print(f\"Win rate vs random: {win_rate:.1f}%\")"
   ]
  },
  {
   "cell_type": "markdown",
   "metadata": {},
   "source": [
    "## Save & Next Steps"
   ]
  },
  {
   "cell_type": "code",
   "execution_count": null,
   "metadata": {},
   "outputs": [],
   "source": [
    "# Save model\n",
    "torch.save(agent.q_net.state_dict(), 'tessellate_dqn.pt')\n",
    "print(\"Model saved to tessellate_dqn.pt\")\n",
    "\n",
    "print(\"\\nNext steps:\")\n",
    "print(\"1. Try different reward modes: 'sparse', 'immediate', 'mixed'\")\n",
    "print(\"2. Implement self-play training\")\n",
    "print(\"3. Add PPO or A3C algorithms\")\n",
    "print(\"4. Visualize games: python -m http.server 8000 → browser.html\")"
   ]
  }
 ],
 "metadata": {
  "kernelspec": {
   "display_name": "Python 3",
   "language": "python",
   "name": "python3"
  },
  "language_info": {
   "codemirror_mode": {
    "name": "ipython",
    "version": 3
   },
   "file_extension": ".py",
   "mimetype": "text/x-python",
   "name": "python",
   "nbconvert_exporter": "python",
   "pygments_lexer": "ipython3",
   "version": "3.9.0"
  }
 },
 "nbformat": 4,
 "nbformat_minor": 4
}