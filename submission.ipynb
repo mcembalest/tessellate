{
 "cells": [
  {
   "cell_type": "markdown",
   "id": "e0ac41f4",
   "metadata": {},
   "source": [
    "# Tessellate\n",
    "\n",
    "## [Play online](https://mcembalest.github.io/tessellate/)\n",
    "\n",
    "Can you beat ChatGPT at Tessellate, a game neither you nor ChatGPT have ever seen before? \n",
    "\n",
    "I bet you can (until OpenAI includes Tessellate in its training data for future versions of ChatGPT).\n",
    "\n",
    "My goal is for you to understand why you are in a better position than ChatGPT to get good at a brand new board game if both you and ChatGPT are given very limited time/help/data.\n",
    "\n",
    "I've put a board game I invented, Tessellate, [online to play at this link](https://mcembalest.github.io/tessellate/). You can play against a friend or against ChatGPT.\n",
    "\n",
    "# <img width=\"300\" height=\"371\" alt=\"board\" src=\"https://github.com/user-attachments/assets/e1099218-2efc-4d6b-9dc3-114493b3c8f8\" />"
   ]
  },
  {
   "cell_type": "markdown",
   "id": "2446998a",
   "metadata": {},
   "source": [
    "# Part 1: Why do mathematicians and AI researchers study games?"
   ]
  },
  {
   "cell_type": "markdown",
   "id": "bddca197",
   "metadata": {},
   "source": [
    "# Part 2: Why does inventing a new board game help study AI models?"
   ]
  },
  {
   "cell_type": "markdown",
   "id": "194ada73",
   "metadata": {},
   "source": []
  }
 ],
 "metadata": {
  "language_info": {
   "name": "python"
  }
 },
 "nbformat": 4,
 "nbformat_minor": 5
}
