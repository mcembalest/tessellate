{
 "cells": [
  {
   "cell_type": "markdown",
   "metadata": {},
   "source": [
    "# Tessellate Q Learning\n",
    "\n",
    "Train an Q learning model on Tessellate"
   ]
  },
  {
   "cell_type": "code",
   "execution_count": null,
   "metadata": {},
   "outputs": [],
   "source": [
    "# Install dependencies\n",
    "# !pip install torch numpy -q"
   ]
  },
  {
   "cell_type": "code",
   "execution_count": 1,
   "metadata": {},
   "outputs": [],
   "source": [
    "import numpy as np\n",
    "import torch\n",
    "import torch.nn as nn\n",
    "import torch.optim as optim\n",
    "from collections import deque\n",
    "import random\n",
    "\n",
    "# Import game environment\n",
    "from tessellate_env import TessellateEnv"
   ]
  },
  {
   "cell_type": "markdown",
   "metadata": {},
   "source": [
    "## Quick Demo"
   ]
  },
  {
   "cell_type": "code",
   "execution_count": 2,
   "metadata": {},
   "outputs": [
    {
     "name": "stdout",
     "output_type": "stream",
     "text": [
      "Observation shape: (101,)\n",
      "Action space: 0-99 (board positions)\n",
      "\n",
      "Move 1: Action=75, Reward=0.010\n",
      "  Scores: Red=1, Blue=1\n",
      "Move 2: Action=2, Reward=0.000\n",
      "  Scores: Red=1, Blue=1\n",
      "Move 3: Action=80, Reward=0.000\n",
      "  Scores: Red=1, Blue=1\n",
      "Move 4: Action=82, Reward=0.000\n",
      "  Scores: Red=1, Blue=1\n",
      "Move 5: Action=86, Reward=0.000\n",
      "  Scores: Red=1, Blue=1\n"
     ]
    }
   ],
   "source": [
    "# Create environment and play 5 random moves\n",
    "env = TessellateEnv(reward_mode='mixed')\n",
    "obs = env.reset()\n",
    "\n",
    "print(f\"Observation shape: {obs.shape}\")\n",
    "print(f\"Action space: 0-99 (board positions)\\n\")\n",
    "\n",
    "for i in range(5):\n",
    "    valid = env.get_valid_actions()\n",
    "    action = np.random.choice(valid)\n",
    "    obs, reward, done, info = env.step(action)\n",
    "    \n",
    "    print(f\"Move {i+1}: Action={action}, Reward={reward:.3f}\")\n",
    "    print(f\"  Scores: Red={info['current_scores'][1]}, Blue={info['current_scores'][2]}\")"
   ]
  },
  {
   "cell_type": "markdown",
   "metadata": {},
   "source": [
    "## DQN Agent"
   ]
  },
  {
   "cell_type": "code",
   "execution_count": 9,
   "metadata": {},
   "outputs": [],
   "source": [
    "class DQN(nn.Module):\n",
    "    def __init__(self, input_size=101, hidden_size=128, output_size=100):\n",
    "        super().__init__()\n",
    "        self.fc1 = nn.Linear(input_size, hidden_size)\n",
    "        self.fc2 = nn.Linear(hidden_size, hidden_size)\n",
    "        self.fc3 = nn.Linear(hidden_size, output_size)\n",
    "        \n",
    "    def forward(self, x):\n",
    "        x = torch.relu(self.fc1(x))\n",
    "        x = torch.relu(self.fc2(x))\n",
    "        return self.fc3(x)\n",
    "\n",
    "class DQNAgent:\n",
    "    def __init__(self, lr=0.0001, gamma=0.95, epsilon=0.1):\n",
    "        self.q_net = DQN()\n",
    "        self.target_net = DQN()\n",
    "        self.optimizer = optim.Adam(self.q_net.parameters(), lr=lr)\n",
    "        self.memory = deque(maxlen=10000)\n",
    "        self.gamma = gamma\n",
    "        self.epsilon = epsilon\n",
    "        \n",
    "    def act(self, state, valid_actions):\n",
    "        if random.random() < self.epsilon:\n",
    "            return random.choice(valid_actions)\n",
    "        \n",
    "        with torch.no_grad():\n",
    "            q_values = self.q_net(torch.FloatTensor(state))\n",
    "            q_values_valid = q_values[valid_actions]\n",
    "            return valid_actions[q_values_valid.argmax().item()]\n",
    "    \n",
    "    def remember(self, state, action, reward, next_state, done):\n",
    "        self.memory.append((state, action, reward, next_state, done))\n",
    "    \n",
    "    def replay(self, batch_size=32):\n",
    "        if len(self.memory) < batch_size:\n",
    "            return\n",
    "        \n",
    "        batch = random.sample(self.memory, batch_size)\n",
    "        states = torch.FloatTensor(np.array([e[0] for e in batch]))\n",
    "        actions = torch.LongTensor([e[1] for e in batch])\n",
    "        rewards = torch.FloatTensor([e[2] for e in batch])\n",
    "        next_states = torch.FloatTensor(np.array([e[3] for e in batch]))\n",
    "        dones = torch.FloatTensor([e[4] for e in batch])\n",
    "        \n",
    "        current_q = self.q_net(states).gather(1, actions.unsqueeze(1))\n",
    "        next_q = self.target_net(next_states).max(1)[0].detach()\n",
    "        target_q = rewards + (1 - dones) * self.gamma * next_q\n",
    "        \n",
    "        loss = nn.MSELoss()(current_q.squeeze(), target_q)\n",
    "        self.optimizer.zero_grad()\n",
    "        loss.backward()\n",
    "        self.optimizer.step()\n",
    "    \n",
    "    def update_target(self):\n",
    "        self.target_net.load_state_dict(self.q_net.state_dict())"
   ]
  },
  {
   "cell_type": "markdown",
   "metadata": {},
   "source": [
    "## Training"
   ]
  },
  {
   "cell_type": "code",
   "execution_count": 10,
   "metadata": {},
   "outputs": [
    {
     "name": "stdout",
     "output_type": "stream",
     "text": [
      "Episode 0: Avg Reward = 11.538\n",
      "Episode 20: Avg Reward = 9.006\n",
      "Episode 40: Avg Reward = 12.886\n",
      "Episode 60: Avg Reward = 13.480\n",
      "Episode 80: Avg Reward = 11.289\n",
      "Episode 100: Avg Reward = 11.226\n",
      "Episode 120: Avg Reward = 11.361\n",
      "Episode 140: Avg Reward = 11.421\n",
      "Episode 160: Avg Reward = 11.960\n",
      "Episode 180: Avg Reward = 11.357\n",
      "Episode 200: Avg Reward = 10.072\n",
      "Episode 220: Avg Reward = 10.712\n",
      "Episode 240: Avg Reward = 12.137\n",
      "Episode 260: Avg Reward = 11.665\n",
      "Episode 280: Avg Reward = 14.783\n",
      "Episode 300: Avg Reward = 11.375\n",
      "Episode 320: Avg Reward = 11.475\n",
      "Episode 340: Avg Reward = 10.970\n",
      "Episode 360: Avg Reward = 10.630\n",
      "Episode 380: Avg Reward = 10.435\n",
      "Episode 400: Avg Reward = 12.867\n",
      "Episode 420: Avg Reward = 14.160\n",
      "Episode 440: Avg Reward = 13.568\n",
      "Episode 460: Avg Reward = 16.407\n",
      "Episode 480: Avg Reward = 9.159\n",
      "Episode 500: Avg Reward = 10.954\n",
      "Episode 520: Avg Reward = 8.169\n",
      "Episode 540: Avg Reward = 9.409\n",
      "Episode 560: Avg Reward = 10.442\n",
      "Episode 580: Avg Reward = 14.833\n",
      "Episode 600: Avg Reward = 14.220\n",
      "Episode 620: Avg Reward = 12.296\n",
      "Episode 640: Avg Reward = 11.236\n",
      "Episode 660: Avg Reward = 12.990\n",
      "Episode 680: Avg Reward = 12.708\n",
      "Episode 700: Avg Reward = 10.495\n",
      "Episode 720: Avg Reward = 12.997\n",
      "Episode 740: Avg Reward = 9.055\n",
      "Episode 760: Avg Reward = 9.567\n",
      "Episode 780: Avg Reward = 11.350\n",
      "Episode 800: Avg Reward = 14.055\n",
      "Episode 820: Avg Reward = 9.849\n",
      "Episode 840: Avg Reward = 13.286\n",
      "Episode 860: Avg Reward = 11.047\n",
      "Episode 880: Avg Reward = 13.529\n",
      "Episode 900: Avg Reward = 12.517\n",
      "Episode 920: Avg Reward = 11.959\n",
      "Episode 940: Avg Reward = 11.443\n",
      "Episode 960: Avg Reward = 10.738\n",
      "Episode 980: Avg Reward = 10.796\n",
      "\n",
      "Final avg reward: 12.160\n"
     ]
    }
   ],
   "source": [
    "# Train agent\n",
    "env = TessellateEnv(reward_mode='mixed')\n",
    "agent = DQNAgent(epsilon=0.1)\n",
    "episodes = 1000\n",
    "rewards = []\n",
    "\n",
    "for ep in range(episodes):\n",
    "    state = env.reset()\n",
    "    total_reward = 0\n",
    "    \n",
    "    while True:\n",
    "        valid = env.get_valid_actions()\n",
    "        if not valid:\n",
    "            break\n",
    "            \n",
    "        action = agent.act(state, valid)\n",
    "        next_state, reward, done, _ = env.step(action)\n",
    "        \n",
    "        agent.remember(state, action, reward, next_state, done)\n",
    "        agent.replay()\n",
    "        \n",
    "        state = next_state\n",
    "        total_reward += reward\n",
    "        \n",
    "        if done:\n",
    "            break\n",
    "    \n",
    "    rewards.append(total_reward)\n",
    "    \n",
    "    # Update target network\n",
    "    if ep % 10 == 0:\n",
    "        agent.update_target()\n",
    "        agent.epsilon *= 0.9  # Decay exploration\n",
    "    \n",
    "    if ep % 20 == 0:\n",
    "        print(f\"Episode {ep}: Avg Reward = {np.mean(rewards[-20:]):.3f}\")\n",
    "\n",
    "print(f\"\\nFinal avg reward: {np.mean(rewards[-20:]):.3f}\")"
   ]
  },
  {
   "cell_type": "markdown",
   "metadata": {},
   "source": [
    "## Evaluation"
   ]
  },
  {
   "cell_type": "code",
   "execution_count": 11,
   "metadata": {},
   "outputs": [
    {
     "name": "stdout",
     "output_type": "stream",
     "text": [
      "Win rate vs random: 80.0%\n"
     ]
    }
   ],
   "source": [
    "# Test trained agent vs random\n",
    "def evaluate(agent, n_games=20):\n",
    "    wins = 0\n",
    "    \n",
    "    for _ in range(n_games):\n",
    "        env = TessellateEnv()\n",
    "        state = env.reset()\n",
    "        \n",
    "        # Track scores for both players\n",
    "        while not env.is_terminal():\n",
    "            valid = env.get_valid_actions()\n",
    "            if not valid:\n",
    "                break\n",
    "            \n",
    "            # Agent plays RED (player 1)\n",
    "            if env.game.current_turn == 1:\n",
    "                action = agent.act(state, valid)\n",
    "            else:\n",
    "                # Random plays BLUE\n",
    "                action = random.choice(valid)\n",
    "            \n",
    "            state, _, done, info = env.step(action)\n",
    "            \n",
    "            if done:\n",
    "                if info['winner'] == 1:\n",
    "                    wins += 1\n",
    "                break\n",
    "    \n",
    "    return wins / n_games * 100\n",
    "\n",
    "agent.epsilon = 0  # No exploration during evaluation\n",
    "win_rate = evaluate(agent)\n",
    "print(f\"Win rate vs random: {win_rate:.1f}%\")"
   ]
  }
 ],
 "metadata": {
  "kernelspec": {
   "display_name": "tessellate",
   "language": "python",
   "name": "python3"
  },
  "language_info": {
   "codemirror_mode": {
    "name": "ipython",
    "version": 3
   },
   "file_extension": ".py",
   "mimetype": "text/x-python",
   "name": "python",
   "nbconvert_exporter": "python",
   "pygments_lexer": "ipython3",
   "version": "3.12.11"
  }
 },
 "nbformat": 4,
 "nbformat_minor": 4
}
